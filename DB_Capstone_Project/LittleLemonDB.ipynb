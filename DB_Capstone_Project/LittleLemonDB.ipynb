{
 "cells": [
  {
   "cell_type": "code",
   "execution_count": 22,
   "metadata": {},
   "outputs": [
    {
     "name": "stdout",
     "output_type": "stream",
     "text": [
      "MySQL Connector/Python API is imported successfully.\n",
      "\n",
      "Establishing a new connection between MySQL and Python.\n",
      "A connection between MySQL and Python is successfully established\n"
     ]
    }
   ],
   "source": [
    "import mysql.connector as connector\n",
    "print(\"MySQL Connector/Python API is imported successfully.\\n\")\n",
    "print(\"Establishing a new connection between MySQL and Python.\")\n",
    "connection=connector.connect(user=\"user00\", password=\"Winter2023!\", db=\"Little Lemon_DB\")\n",
    "print(\"A connection between MySQL and Python is successfully established\")"
   ]
  },
  {
   "cell_type": "code",
   "execution_count": 23,
   "metadata": {},
   "outputs": [],
   "source": [
    "cursor = connection.cursor(connection)\n"
   ]
  },
  {
   "cell_type": "code",
   "execution_count": 24,
   "metadata": {},
   "outputs": [],
   "source": [
    "show_tables_query = \"SHOW tables\"\n",
    "results = cursor.execute(show_tables_query)\n",
    "\n"
   ]
  },
  {
   "cell_type": "code",
   "execution_count": 25,
   "metadata": {},
   "outputs": [
    {
     "name": "stdout",
     "output_type": "stream",
     "text": [
      "Address\n",
      "Booking\n",
      "Customer\n",
      "Delivery\n",
      "Menu\n",
      "Menu_View\n",
      "Orders\n",
      "Orders_View\n",
      "Staff\n"
     ]
    }
   ],
   "source": [
    "tables = cursor.fetchall()\n",
    "for table in tables:\n",
    "    print(table[0])"
   ]
  },
  {
   "cell_type": "code",
   "execution_count": 30,
   "metadata": {},
   "outputs": [],
   "source": [
    "customer_join_query = '''\n",
    "        SELECT\n",
    "            Customer.CustomerName AS FullName,\n",
    "            Customer.CustomerEmail AS Email,\n",
    "            Customer.CustomerPhone AS PhoneNumber,\n",
    "            Address.Street AS Address,\n",
    "            Address.City AS City,\n",
    "            Address.State AS State,\n",
    "            Orders.TotalCost AS Cost\n",
    "        FROM Customer \n",
    "        JOIN Address \n",
    "            USING (CustomerID)\n",
    "        JOIN Orders \n",
    "            USING (CustomerID)\n",
    "        WHERE Orders.TotalCost > 60\n",
    "        ORDER BY Orders.TotalCost DESC;'''"
   ]
  },
  {
   "cell_type": "code",
   "execution_count": 31,
   "metadata": {},
   "outputs": [],
   "source": [
    "cursor.execute(customer_join_query)"
   ]
  },
  {
   "cell_type": "code",
   "execution_count": 32,
   "metadata": {},
   "outputs": [],
   "source": [
    "customers = cursor.fetchall()"
   ]
  },
  {
   "cell_type": "code",
   "execution_count": 44,
   "metadata": {},
   "outputs": [
    {
     "name": "stdout",
     "output_type": "stream",
     "text": [
      "There are 5 customers with more than $60 of spending...\n",
      "Printing the top 10 spenders...\n",
      "==================================================\n",
      "Full Name: \t Kevin Gates\n",
      "Email: \t\t lucabrasi@icloud.com\n",
      "Phone Number: \t 8018970002\n",
      "Address: \t 111 MLK Blvd\n",
      "City: \t\t Baton Rogue\n",
      "State: \t\t LA\n",
      "Has spent: \t 6789.1\n",
      "==================================================\n",
      "Full Name: \t Kentrell Gaulden\n",
      "Email: \t\t neverbrokeagain@yahoo.com\n",
      "Phone Number: \t 5040380004\n",
      "Address: \t 3800 Salt Lake Drive\n",
      "City: \t\t Salt Lake City\n",
      "State: \t\t UT\n",
      "Has spent: \t 3456.78\n",
      "==================================================\n",
      "Full Name: \t Megan Pete\n",
      "Email: \t\t hotgirl@icloud.com\n",
      "Phone Number: \t 8172030005\n",
      "Address: \t 17 Hottie Cove\n",
      "City: \t\t Houston\n",
      "State: \t\t TX\n",
      "Has spent: \t 1234.56\n",
      "==================================================\n",
      "Full Name: \t Frank Lucas\n",
      "Email: \t\t franklucas@gmail.com\n",
      "Phone Number: \t 6157890001\n",
      "Address: \t 555 Main Street\n",
      "City: \t\t New York\n",
      "State: \t\t NY\n",
      "Has spent: \t 1110.45\n",
      "==================================================\n",
      "Full Name: \t Jermaine Shutes\n",
      "Email: \t\t allstar@gmail.com\n",
      "Phone Number: \t 6156090003\n",
      "Address: \t 233 Jefferson Street\n",
      "City: \t\t Nashville\n",
      "State: \t\t TN\n",
      "Has spent: \t 567.89\n"
     ]
    }
   ],
   "source": [
    "print(f'There are {len(customers)} customers with more than $60 of spending...')\n",
    "print('Printing the top 10 spenders...')\n",
    "\n",
    "for customer in customers[:10]:\n",
    "    print('=' * 50)\n",
    "    print(f'Full Name: \\t {customer[0]}')\n",
    "    print(f'Email: \\t\\t {customer[1]}')\n",
    "    print(f'Phone Number: \\t {customer[2]}')\n",
    "    print(f'Address: \\t {customer[3]}')\n",
    "    print(f'City: \\t\\t {customer[4]}')\n",
    "    print(f'State: \\t\\t {customer[5]}')\n",
    "    print(f'Has spent: \\t {float(customer[6])}')"
   ]
  }
 ],
 "metadata": {
  "kernelspec": {
   "display_name": "Python 3",
   "language": "python",
   "name": "python3"
  },
  "language_info": {
   "codemirror_mode": {
    "name": "ipython",
    "version": 3
   },
   "file_extension": ".py",
   "mimetype": "text/x-python",
   "name": "python",
   "nbconvert_exporter": "python",
   "pygments_lexer": "ipython3",
   "version": "3.11.5"
  },
  "orig_nbformat": 4
 },
 "nbformat": 4,
 "nbformat_minor": 2
}
